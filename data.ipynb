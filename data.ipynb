{
 "cells": [
  {
   "cell_type": "code",
   "execution_count": 49,
   "metadata": {},
   "outputs": [
    {
     "name": "stdout",
     "output_type": "stream",
     "text": [
      "[    0     2     3 ... 18350 18351 18352] [    1     4     8 ... 18319 18323 18348]\n",
      "[    0     1     2 ... 18349 18350 18352] [   12    14    16 ... 18341 18342 18351]\n",
      "[    0     1     4 ... 18350 18351 18352] [    2     3     5 ... 18343 18344 18345]\n",
      "[    1     2     3 ... 18350 18351 18352] [    0     7    11 ... 18339 18346 18349]\n",
      "[    0     1     2 ... 18348 18349 18351] [    6     9    13 ... 18347 18350 18352]\n"
     ]
    }
   ],
   "source": [
    "import torch\n",
    "import pandas as pd\n",
    "from torch import nn\n",
    "from d2l import torch as d2l\n",
    "import numpy as np\n",
    "import os\n",
    "from PIL import Image\n",
    "import albumentations\n",
    "from albumentations.pytorch.transforms import ToTensorV2\n",
    "from torchvision import transforms\n",
    "from IPython.display import display\n",
    "import torch.utils.data as Data\n",
    "from sklearn.model_selection import StratifiedKFold\n",
    "from sklearn.preprocessing import LabelEncoder\n",
    "train_path = '../data/train.csv'\n",
    "test_path = '../data/test.csv'\n",
    "image_path = '../data/'\n",
    "\n",
    "df = pd.read_csv(train_path)\n",
    "labels_unique = df['label'].unique()\n",
    "\n",
    "class LeaveDataset(Data.Dataset):\n",
    "    def __init__(self,data,lable,file_path,transform=None):\n",
    "        self.data = data\n",
    "        self.label=lable\n",
    "        self.transform = transform\n",
    "        self.file_path=file_path\n",
    "\n",
    "    def __getitem__(self, index):\n",
    "        data_path = self.data[index]\n",
    "        data = np.asarray(Image.open(os.path.join(self.file_path,data_path)))\n",
    "        if self.transform :\n",
    "            data=self.transform(image=data)['image']\n",
    "        label = self.label[index]\n",
    "        return data, label\n",
    "    \n",
    "    def __len__(self):\n",
    "        return  len(self.label)\n",
    "\n",
    "le = LabelEncoder()\n",
    "df['label']=le.fit_transform(df['label'])\n",
    "kfold = StratifiedKFold(n_splits=5,random_state=42, shuffle=True)\n",
    "df.shape\n",
    "for k, (train_index, valid_index) in enumerate(kfold.split(df['image'],df['label'])):\n",
    "    #train_data,train_label=df['image'][train_index],df['label'][train_index]\n",
    "    print(train_index,valid_index)\n",
    "# le = LabelEncoder()\n",
    "# le.fit(df['label'])\n",
    "# df['label'] = le.transform(df['label'])\n",
    "# label_map = dict(zip(le.classes_, le.transform(le.classes_)))\n",
    "# label_inv_map = {v: k for k, v in label_map.items()}\n",
    "# df['image']"
   ]
  },
  {
   "cell_type": "code",
   "execution_count": null,
   "metadata": {},
   "outputs": [],
   "source": []
  }
 ],
 "metadata": {
  "kernelspec": {
   "display_name": "py38",
   "language": "python",
   "name": "python3"
  },
  "language_info": {
   "codemirror_mode": {
    "name": "ipython",
    "version": 3
   },
   "file_extension": ".py",
   "mimetype": "text/x-python",
   "name": "python",
   "nbconvert_exporter": "python",
   "pygments_lexer": "ipython3",
   "version": "3.8.16"
  },
  "orig_nbformat": 4
 },
 "nbformat": 4,
 "nbformat_minor": 2
}
